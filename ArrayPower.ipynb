{
 "cells": [
  {
   "cell_type": "code",
   "execution_count": 1,
   "metadata": {},
   "outputs": [
    {
     "data": {
      "text/plain": [
       "'\\n@Author: Sudhanshu Kumar\\n@Date: 15 - 10 - 2024\\n@Last Modified by: Sudhanshu Kumar\\n@Last Modified time: 15 - 10 - 2024\\n@Title: Python program to get array1 power to array2 element wise\\n\\n'"
      ]
     },
     "execution_count": 1,
     "metadata": {},
     "output_type": "execute_result"
    }
   ],
   "source": [
    "'''\n",
    "@Author: Sudhanshu Kumar\n",
    "@Date: 15 - 10 - 2024\n",
    "@Last Modified by: Sudhanshu Kumar\n",
    "@Last Modified time: 15 - 10 - 2024\n",
    "@Title: Python program to get array1 power to array2 element wise\n",
    "\n",
    "'''"
   ]
  },
  {
   "cell_type": "code",
   "execution_count": 2,
   "metadata": {},
   "outputs": [],
   "source": [
    "import pandas as pd \n",
    "import logger\n",
    "\n",
    "log = logger.logger_init('ArrayPower.ipynb')"
   ]
  },
  {
   "cell_type": "code",
   "execution_count": 3,
   "metadata": {},
   "outputs": [],
   "source": [
    "def putPower(data1, data2):\n",
    "    \"\"\"\n",
    "    Description: \n",
    "        Function to calculate power of elements of array1 with respect to array2\n",
    "    Parameters:\n",
    "        data1: list for which we have to calculate power\n",
    "        data2: the power for list1\n",
    "    Return:\n",
    "        Series after powering up series1 wrt series2\n",
    "    \"\"\"\n",
    "\n",
    "    data_series1 = pd.Series(data1)\n",
    "    data_series2 = pd.Series(data2)\n",
    "\n",
    "    ans_series = data_series1**data_series2\n",
    "    return ans_series"
   ]
  },
  {
   "cell_type": "code",
   "execution_count": 4,
   "metadata": {},
   "outputs": [],
   "source": [
    "def main():\n",
    "    data1 = [1,2,3,4,5,6]\n",
    "    data2 = [3,2,1,3,2,1]\n",
    "\n",
    "    print(putPower(data1,data2))"
   ]
  },
  {
   "cell_type": "code",
   "execution_count": 5,
   "metadata": {},
   "outputs": [
    {
     "name": "stdout",
     "output_type": "stream",
     "text": [
      "0     1\n",
      "1     4\n",
      "2     3\n",
      "3    64\n",
      "4    25\n",
      "5     6\n",
      "dtype: int64\n"
     ]
    }
   ],
   "source": [
    "if __name__==\"__main__\":\n",
    "    main()"
   ]
  }
 ],
 "metadata": {
  "kernelspec": {
   "display_name": "Python 3",
   "language": "python",
   "name": "python3"
  },
  "language_info": {
   "codemirror_mode": {
    "name": "ipython",
    "version": 3
   },
   "file_extension": ".py",
   "mimetype": "text/x-python",
   "name": "python",
   "nbconvert_exporter": "python",
   "pygments_lexer": "ipython3",
   "version": "3.9.13"
  }
 },
 "nbformat": 4,
 "nbformat_minor": 2
}
