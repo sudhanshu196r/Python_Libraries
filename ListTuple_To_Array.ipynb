{
 "cells": [
  {
   "cell_type": "code",
   "execution_count": 1,
   "metadata": {},
   "outputs": [
    {
     "data": {
      "text/plain": [
       "'\\n@Author: Sudhanshu Kumar\\n@Date: 10 - 10 - 2024\\n@Last Modified by: Sudhanshu Kumar\\n@Last Modified time: 10 - 10 - 2024\\n@Title: Python program to create an array from list and tuple\\n\\n'"
      ]
     },
     "execution_count": 1,
     "metadata": {},
     "output_type": "execute_result"
    }
   ],
   "source": [
    "'''\n",
    "@Author: Sudhanshu Kumar\n",
    "@Date: 10 - 10 - 2024\n",
    "@Last Modified by: Sudhanshu Kumar\n",
    "@Last Modified time: 10 - 10 - 2024\n",
    "@Title: Python program to create an array from list and tuple\n",
    "\n",
    "'''"
   ]
  },
  {
   "cell_type": "code",
   "execution_count": 2,
   "metadata": {},
   "outputs": [],
   "source": [
    "import numpy as np \n",
    "import logger\n",
    "\n",
    "log = logger.logger_init('ListTuple_To_Array.ipynb')"
   ]
  },
  {
   "cell_type": "code",
   "execution_count": 3,
   "metadata": {},
   "outputs": [],
   "source": [
    "def create(lsttup):\n",
    "    \"\"\"\n",
    "    Description: This function will convert list and tuple to numpy array\n",
    "    Parameters: lsttup which needs to be converted to array\n",
    "    Returns: return a numpy array\n",
    "    \"\"\"\n",
    "\n",
    "    np_array = np.array(lsttup)\n",
    "    return np_array"
   ]
  },
  {
   "cell_type": "code",
   "execution_count": 4,
   "metadata": {},
   "outputs": [],
   "source": [
    "def main():\n",
    "    lst = [2,3,6,4,5,6,9,3,5,6]\n",
    "    tup = (2,4,5,6,72,5,8,9,0)\n",
    "\n",
    "    log.info(f'List array : {create(lst)}')\n",
    "    log.info(f'Tuple array : {create(tup)}')"
   ]
  },
  {
   "cell_type": "code",
   "execution_count": 5,
   "metadata": {},
   "outputs": [
    {
     "name": "stderr",
     "output_type": "stream",
     "text": [
      "2024-10-10 15:34:19,332:INFO:ListTuple_To_Array.ipynb:List array : [2 3 6 4 5 6 9 3 5 6]\n",
      "2024-10-10 15:34:19,332:INFO:ListTuple_To_Array.ipynb:Tuple array : [ 2  4  5  6 72  5  8  9  0]\n"
     ]
    }
   ],
   "source": [
    "if __name__==\"__main__\":\n",
    "    main()"
   ]
  }
 ],
 "metadata": {
  "kernelspec": {
   "display_name": "Python 3",
   "language": "python",
   "name": "python3"
  },
  "language_info": {
   "codemirror_mode": {
    "name": "ipython",
    "version": 3
   },
   "file_extension": ".py",
   "mimetype": "text/x-python",
   "name": "python",
   "nbconvert_exporter": "python",
   "pygments_lexer": "ipython3",
   "version": "3.9.13"
  }
 },
 "nbformat": 4,
 "nbformat_minor": 2
}
