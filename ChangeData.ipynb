{
 "cells": [
  {
   "cell_type": "code",
   "execution_count": 6,
   "metadata": {},
   "outputs": [
    {
     "data": {
      "text/plain": [
       "\"\\n@Author: Sudhanshu Kumar\\n@Date: 17 - 10 - 2024\\n@Last Modified by: Sudhanshu Kumar\\n@Last Modified time: 17 - 10 - 2024\\n@Title: Python program to get change score in row 'd'\\n\\n\""
      ]
     },
     "execution_count": 6,
     "metadata": {},
     "output_type": "execute_result"
    }
   ],
   "source": [
    "'''\n",
    "@Author: Sudhanshu Kumar\n",
    "@Date: 17 - 10 - 2024\n",
    "@Last Modified by: Sudhanshu Kumar\n",
    "@Last Modified time: 17 - 10 - 2024\n",
    "@Title: Python program to get change score in row 'd'\n",
    "\n",
    "'''"
   ]
  },
  {
   "cell_type": "code",
   "execution_count": 7,
   "metadata": {},
   "outputs": [],
   "source": [
    "import pandas as pd\n",
    "import logger\n",
    "\n",
    "log = logger.logger_init('ChangeData')"
   ]
  },
  {
   "cell_type": "code",
   "execution_count": 8,
   "metadata": {},
   "outputs": [],
   "source": [
    "def changeData(data,labels):\n",
    "    \"\"\"\n",
    "    Description:\n",
    "        Function to change score in row 'd'\n",
    "    Parameters:\n",
    "        data: A dictionary data that has to be converted to dataframe\n",
    "        labels: index for rows\n",
    "    Returns:\n",
    "        dataframe after changing the data\n",
    "    \"\"\"\n",
    "    df = pd.DataFrame(data,labels)\n",
    "\n",
    "    df.at['d','score']=11.5\n",
    "    return df.loc['d']\n",
    "    "
   ]
  },
  {
   "cell_type": "code",
   "execution_count": 9,
   "metadata": {},
   "outputs": [],
   "source": [
    "def main():\n",
    "    data =  {'name': ['Anastasia', 'Dima', 'Katherine', 'James', 'Emily', 'Michael',\n",
    "    'Matthew', 'Laura', 'Kevin', 'Jonas'],\n",
    "    'score': [12.5, 9, 16.5, 0, 9, 20, 14.5, 0, 8, 19],\n",
    "    'attempts': [1, 3, 2, 3, 2, 3, 1, 1, 2, 1],\n",
    "    'qualify': ['yes', 'no', 'yes', 'no', 'no', 'yes', 'yes', 'no', 'no', 'yes']}\n",
    "    labels = ['a', 'b', 'c', 'd', 'e', 'f', 'g', 'h', 'i', 'j']\n",
    "\n",
    "    log.info(changeData(data,labels))"
   ]
  },
  {
   "cell_type": "code",
   "execution_count": 10,
   "metadata": {},
   "outputs": [
    {
     "name": "stderr",
     "output_type": "stream",
     "text": [
      "2024-10-17 12:19:37,415:INFO:ChangeData:name        James\n",
      "score        11.5\n",
      "attempts        3\n",
      "qualify        no\n",
      "Name: d, dtype: object\n",
      "2024-10-17 12:19:37,415:INFO:ChangeData:name        James\n",
      "score        11.5\n",
      "attempts        3\n",
      "qualify        no\n",
      "Name: d, dtype: object\n"
     ]
    }
   ],
   "source": [
    "if __name__==\"__main__\":\n",
    "    main()"
   ]
  }
 ],
 "metadata": {
  "kernelspec": {
   "display_name": "Python 3",
   "language": "python",
   "name": "python3"
  },
  "language_info": {
   "codemirror_mode": {
    "name": "ipython",
    "version": 3
   },
   "file_extension": ".py",
   "mimetype": "text/x-python",
   "name": "python",
   "nbconvert_exporter": "python",
   "pygments_lexer": "ipython3",
   "version": "3.9.13"
  }
 },
 "nbformat": 4,
 "nbformat_minor": 2
}
