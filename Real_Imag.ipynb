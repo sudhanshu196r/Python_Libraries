{
 "cells": [
  {
   "cell_type": "code",
   "execution_count": 6,
   "metadata": {},
   "outputs": [
    {
     "data": {
      "text/plain": [
       "'\\n@Author: Sudhanshu Kumar\\n@Date: 10 - 10 - 2024\\n@Last Modified by: Sudhanshu Kumar\\n@Last Modified time: 10 - 10 - 2024\\n@Title: Python program to find real and imaginary parts\\n\\n'"
      ]
     },
     "execution_count": 6,
     "metadata": {},
     "output_type": "execute_result"
    }
   ],
   "source": [
    "'''\n",
    "@Author: Sudhanshu Kumar\n",
    "@Date: 10 - 10 - 2024\n",
    "@Last Modified by: Sudhanshu Kumar\n",
    "@Last Modified time: 10 - 10 - 2024\n",
    "@Title: Python program to find real and imaginary parts\n",
    "\n",
    "'''"
   ]
  },
  {
   "cell_type": "code",
   "execution_count": 7,
   "metadata": {},
   "outputs": [],
   "source": [
    "import numpy as np \n",
    "import logger\n",
    "\n",
    "log = logger.logger_init('Real_Imag.ipynb')"
   ]
  },
  {
   "cell_type": "code",
   "execution_count": 8,
   "metadata": {},
   "outputs": [],
   "source": [
    "def realImag(array):\n",
    "    \"\"\"\n",
    "    Description: \n",
    "        This function will find real and imaginary part\n",
    "    Parameters: \n",
    "        array: to which it has to be appended\n",
    "    Returns: \n",
    "        return list of real and imaginary\n",
    "    \"\"\"\n",
    "    np_array = np.array(array)\n",
    "    real_li = []\n",
    "    imag_li = []\n",
    "    for ele in np_array:\n",
    "        real_li.append(ele.real)\n",
    "        imag_li.append(ele.imag)\n",
    "\n",
    "    return real_li,imag_li\n"
   ]
  },
  {
   "cell_type": "code",
   "execution_count": 9,
   "metadata": {},
   "outputs": [],
   "source": [
    "def main():\n",
    "    array = [2+0.44j,3+4j,5+6j,7+8j]\n",
    "    log.info(realImag(array))"
   ]
  },
  {
   "cell_type": "code",
   "execution_count": null,
   "metadata": {},
   "outputs": [],
   "source": [
    "if __name__==\"__main__\":\n",
    "    main()"
   ]
  }
 ],
 "metadata": {
  "kernelspec": {
   "display_name": "Python 3",
   "language": "python",
   "name": "python3"
  },
  "language_info": {
   "codemirror_mode": {
    "name": "ipython",
    "version": 3
   },
   "file_extension": ".py",
   "mimetype": "text/x-python",
   "name": "python",
   "nbconvert_exporter": "python",
   "pygments_lexer": "ipython3",
   "version": "3.9.13"
  }
 },
 "nbformat": 4,
 "nbformat_minor": 2
}
