{
 "cells": [
  {
   "cell_type": "code",
   "execution_count": 1,
   "metadata": {},
   "outputs": [
    {
     "data": {
      "text/plain": [
       "'\\n@Author: Sudhanshu Kumar\\n@Date: 15 - 10 - 2024\\n@Last Modified by: Sudhanshu Kumar\\n@Last Modified time: 15 - 10 - 2024\\n@Title: Python program to perform arithmatic operation on series\\n\\n'"
      ]
     },
     "execution_count": 1,
     "metadata": {},
     "output_type": "execute_result"
    }
   ],
   "source": [
    "'''\n",
    "@Author: Sudhanshu Kumar\n",
    "@Date: 15 - 10 - 2024\n",
    "@Last Modified by: Sudhanshu Kumar\n",
    "@Last Modified time: 15 - 10 - 2024\n",
    "@Title: Python program to perform arithmatic operation on series\n",
    "\n",
    "'''"
   ]
  },
  {
   "cell_type": "code",
   "execution_count": 2,
   "metadata": {},
   "outputs": [],
   "source": [
    "import pandas as pd \n",
    "import logger\n",
    "\n",
    "log = logger.logger_init('ArithOnSeries.ipynb')"
   ]
  },
  {
   "cell_type": "code",
   "execution_count": 3,
   "metadata": {},
   "outputs": [],
   "source": [
    "def operation(data1, data2):\n",
    "\n",
    "    pd_series1 = pd.Series(data1)\n",
    "    pd_series2 = pd.Series(data2)\n",
    "\n",
    "    addition = pd_series1+pd_series2\n",
    "    subtraction = pd_series1-pd_series2\n",
    "    multiplication = pd_series1*pd_series2\n",
    "    division = pd_series1/pd_series2\n",
    "\n",
    "    return addition, subtraction, multiplication, division"
   ]
  },
  {
   "cell_type": "code",
   "execution_count": 4,
   "metadata": {},
   "outputs": [],
   "source": [
    "def main():\n",
    "    data1 = [1,2,3,4,5]\n",
    "    data2 = [2,3,4,5,6]\n",
    "\n",
    "    addition, subtraction, multiplication,division = operation(data1,data2)\n",
    "    print(f\"Addition: {addition} \\nSubtraction: {subtraction}\\nMultiplication: {multiplication}\\nDivision: {division}\")"
   ]
  },
  {
   "cell_type": "code",
   "execution_count": 5,
   "metadata": {},
   "outputs": [
    {
     "name": "stdout",
     "output_type": "stream",
     "text": [
      "Addition: 0     3\n",
      "1     5\n",
      "2     7\n",
      "3     9\n",
      "4    11\n",
      "dtype: int64 \n",
      "Subtraction: 0   -1\n",
      "1   -1\n",
      "2   -1\n",
      "3   -1\n",
      "4   -1\n",
      "dtype: int64\n",
      "Multiplication: 0     2\n",
      "1     6\n",
      "2    12\n",
      "3    20\n",
      "4    30\n",
      "dtype: int64\n",
      "Division: 0    0.500000\n",
      "1    0.666667\n",
      "2    0.750000\n",
      "3    0.800000\n",
      "4    0.833333\n",
      "dtype: float64\n"
     ]
    }
   ],
   "source": [
    "if __name__==\"__main__\":\n",
    "    main()"
   ]
  }
 ],
 "metadata": {
  "kernelspec": {
   "display_name": "Python 3",
   "language": "python",
   "name": "python3"
  },
  "language_info": {
   "codemirror_mode": {
    "name": "ipython",
    "version": 3
   },
   "file_extension": ".py",
   "mimetype": "text/x-python",
   "name": "python",
   "nbconvert_exporter": "python",
   "pygments_lexer": "ipython3",
   "version": "3.9.13"
  }
 },
 "nbformat": 4,
 "nbformat_minor": 2
}
