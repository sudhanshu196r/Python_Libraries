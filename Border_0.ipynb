{
 "cells": [
  {
   "cell_type": "code",
   "execution_count": 6,
   "metadata": {},
   "outputs": [
    {
     "data": {
      "text/plain": [
       "'\\n@Author: Sudhanshu Kumar\\n@Date: 10 - 10 - 2024\\n@Last Modified by: Sudhanshu Kumar\\n@Last Modified time: 10 - 10 - 2024\\n@Title: Python program to put border as 0\\n\\n'"
      ]
     },
     "execution_count": 6,
     "metadata": {},
     "output_type": "execute_result"
    }
   ],
   "source": [
    "'''\n",
    "@Author: Sudhanshu Kumar\n",
    "@Date: 10 - 10 - 2024\n",
    "@Last Modified by: Sudhanshu Kumar\n",
    "@Last Modified time: 10 - 10 - 2024\n",
    "@Title: Python program to put border as 0\n",
    "\n",
    "'''"
   ]
  },
  {
   "cell_type": "code",
   "execution_count": 7,
   "metadata": {},
   "outputs": [],
   "source": [
    "import numpy as np \n",
    "import logger\n",
    "\n",
    "log = logger.logger_init('Border_1_Other_0.ipynb')"
   ]
  },
  {
   "cell_type": "code",
   "execution_count": 8,
   "metadata": {},
   "outputs": [],
   "source": [
    "def create(row,column):\n",
    "    \"\"\"\n",
    "    Description: \n",
    "        This function will create a array with border 0 \n",
    "    Parameters:\n",
    "        row: number of rows \n",
    "        column: number of columns\n",
    "    Returns:\n",
    "        final 2-d array\n",
    "    \"\"\"\n",
    "\n",
    "    np_array = np.arange(0,row*column).reshape(row,column)\n",
    "    for i in range(row):\n",
    "        for j in range(column):\n",
    "            if i==0 or i==row-1 or j==0 or j==column-1:\n",
    "                np_array[i][j] = 0\n",
    "\n",
    "    return np_array\n"
   ]
  },
  {
   "cell_type": "code",
   "execution_count": 9,
   "metadata": {},
   "outputs": [],
   "source": [
    "def main():\n",
    "    row = int(input(\"Enter row : \"))\n",
    "    column = int(input(\"Enter column : \"))\n",
    "\n",
    "    log.info(f\"{create(row,column)}\")\n"
   ]
  },
  {
   "cell_type": "code",
   "execution_count": 10,
   "metadata": {},
   "outputs": [
    {
     "name": "stderr",
     "output_type": "stream",
     "text": [
      "2024-10-10 14:57:19,860:INFO:Border_1_Other_0.ipynb:[[ 0  0  0  0  0]\n",
      " [ 0  6  7  8  0]\n",
      " [ 0 11 12 13  0]\n",
      " [ 0 16 17 18  0]\n",
      " [ 0  0  0  0  0]]\n",
      "2024-10-10 14:57:19,860:INFO:Border_1_Other_0.ipynb:[[ 0  0  0  0  0]\n",
      " [ 0  6  7  8  0]\n",
      " [ 0 11 12 13  0]\n",
      " [ 0 16 17 18  0]\n",
      " [ 0  0  0  0  0]]\n"
     ]
    }
   ],
   "source": [
    "if __name__==\"__main__\":\n",
    "    main()"
   ]
  }
 ],
 "metadata": {
  "kernelspec": {
   "display_name": "Python 3",
   "language": "python",
   "name": "python3"
  },
  "language_info": {
   "codemirror_mode": {
    "name": "ipython",
    "version": 3
   },
   "file_extension": ".py",
   "mimetype": "text/x-python",
   "name": "python",
   "nbconvert_exporter": "python",
   "pygments_lexer": "ipython3",
   "version": "3.9.13"
  }
 },
 "nbformat": 4,
 "nbformat_minor": 2
}
