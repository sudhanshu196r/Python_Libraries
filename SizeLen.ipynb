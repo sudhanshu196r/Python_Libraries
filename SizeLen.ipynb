{
 "cells": [
  {
   "cell_type": "code",
   "execution_count": 1,
   "metadata": {},
   "outputs": [
    {
     "data": {
      "text/plain": [
       "'\\n@Author: Sudhanshu Kumar\\n@Date: 10 - 10 - 2024\\n@Last Modified by: Sudhanshu Kumar\\n@Last Modified time: 10 - 10 - 2024\\n@Title: Python program to find length of array, size of each element and  total size of array\\n\\n'"
      ]
     },
     "execution_count": 1,
     "metadata": {},
     "output_type": "execute_result"
    }
   ],
   "source": [
    "'''\n",
    "@Author: Sudhanshu Kumar\n",
    "@Date: 10 - 10 - 2024\n",
    "@Last Modified by: Sudhanshu Kumar\n",
    "@Last Modified time: 10 - 10 - 2024\n",
    "@Title: Python program to find length of array, size of each element and  total size of array\n",
    "\n",
    "'''"
   ]
  },
  {
   "cell_type": "code",
   "execution_count": 2,
   "metadata": {},
   "outputs": [],
   "source": [
    "import numpy as np \n",
    "import logger\n",
    "\n",
    "log = logger.logger_init('SizeLen.ipynb')"
   ]
  },
  {
   "cell_type": "code",
   "execution_count": 3,
   "metadata": {},
   "outputs": [],
   "source": [
    "def findSize(array):\n",
    "    \"\"\"\n",
    "    Description: \n",
    "        This function will find the size of the array\n",
    "    Parameters: \n",
    "        array: the array\n",
    "    Returns: \n",
    "        return the size of array\n",
    "    \"\"\"\n",
    "    np_array = np.array(array)\n",
    "    ele_size = np_array.itemsize\n",
    "    arr_size = np_array.size\n",
    "    total_size_bytes = ele_size*arr_size\n",
    "\n",
    "    return ele_size,arr_size,total_size_bytes\n"
   ]
  },
  {
   "cell_type": "code",
   "execution_count": 4,
   "metadata": {},
   "outputs": [],
   "source": [
    "def main():\n",
    "    array = [3,4,2,4,5]\n",
    "    ele_size,arr_size,total_size_bytes = findSize(array)\n",
    "    log.info(f'Size of one element: {ele_size} \\n Size of Array: {arr_size} \\n Total Size: {total_size_bytes}')"
   ]
  },
  {
   "cell_type": "code",
   "execution_count": 5,
   "metadata": {},
   "outputs": [
    {
     "name": "stderr",
     "output_type": "stream",
     "text": [
      "2024-10-11 11:42:56,656:INFO:SizeLen.ipynb:Size of one element: 4 \n",
      " Size of Array: 5 \n",
      " Total Size: 20\n"
     ]
    }
   ],
   "source": [
    "if __name__==\"__main__\":\n",
    "    main()"
   ]
  }
 ],
 "metadata": {
  "kernelspec": {
   "display_name": "Python 3",
   "language": "python",
   "name": "python3"
  },
  "language_info": {
   "codemirror_mode": {
    "name": "ipython",
    "version": 3
   },
   "file_extension": ".py",
   "mimetype": "text/x-python",
   "name": "python",
   "nbconvert_exporter": "python",
   "pygments_lexer": "ipython3",
   "version": "3.9.13"
  }
 },
 "nbformat": 4,
 "nbformat_minor": 2
}
