{
 "cells": [
  {
   "cell_type": "code",
   "execution_count": 1,
   "metadata": {},
   "outputs": [
    {
     "data": {
      "text/plain": [
       "'\\n@Author: Sudhanshu Kumar\\n@Date: 17 - 10 - 2024\\n@Last Modified by: Sudhanshu Kumar\\n@Last Modified time: 17 - 10 - 2024\\n@Title: Python program to add a new column\\n\\n'"
      ]
     },
     "execution_count": 1,
     "metadata": {},
     "output_type": "execute_result"
    }
   ],
   "source": [
    "'''\n",
    "@Author: Sudhanshu Kumar\n",
    "@Date: 17 - 10 - 2024\n",
    "@Last Modified by: Sudhanshu Kumar\n",
    "@Last Modified time: 17 - 10 - 2024\n",
    "@Title: Python program to add a new column\n",
    "\n",
    "'''"
   ]
  },
  {
   "cell_type": "code",
   "execution_count": 2,
   "metadata": {},
   "outputs": [],
   "source": [
    "import pandas as pd\n",
    "import logger\n",
    "\n",
    "log = logger.logger_init('NewColumn')"
   ]
  },
  {
   "cell_type": "code",
   "execution_count": 3,
   "metadata": {},
   "outputs": [],
   "source": [
    "def addCol(data,labels,col_name,col_values):\n",
    "    \"\"\"\n",
    "    Description:\n",
    "        Function to add a new column       \n",
    "    Parameters:\n",
    "        data: A dictionary data that has to be converted to dataframe\n",
    "        labels: index for rows\n",
    "        col: column to be added\n",
    "    Returns:\n",
    "        dataframe after adding column\n",
    "    \"\"\"\n",
    "    df = pd.DataFrame(data,labels)\n",
    "    \n",
    "    df[col_name]=col_values\n",
    "    \n",
    "    return df\n",
    "    "
   ]
  },
  {
   "cell_type": "code",
   "execution_count": 4,
   "metadata": {},
   "outputs": [],
   "source": [
    "def main():\n",
    "    data =  {'name': ['Anastasia', 'Dima', 'Katherine', 'James', 'Emily', 'Michael',\n",
    "    'Matthew', 'Laura', 'Kevin', 'Jonas'],\n",
    "    'score': [12.5, 9, 16.5, 0, 9, 20, 14.5, 0, 8, 19],\n",
    "    'attempts': [1, 3, 2, 3, 2, 3, 1, 1, 2, 1],\n",
    "    'qualify': ['yes', 'no', 'yes', 'no', 'no', 'yes', 'yes', 'no', 'no', 'yes']}\n",
    "    labels = ['a', 'b', 'c', 'd', 'e', 'f', 'g', 'h', 'i', 'j']\n",
    "\n",
    "    col_name = 'age'\n",
    "    col_value = [22,23,21,24,23,22,25,22,21,26]\n",
    "\n",
    "    log.info(addCol(data,labels,col_name,col_value))"
   ]
  },
  {
   "cell_type": "code",
   "execution_count": 5,
   "metadata": {},
   "outputs": [
    {
     "name": "stderr",
     "output_type": "stream",
     "text": [
      "2024-10-17 16:37:14,018:INFO:NewColumn:        name  score  attempts qualify  age\n",
      "a  Anastasia   12.5         1     yes   22\n",
      "b       Dima    9.0         3      no   23\n",
      "c  Katherine   16.5         2     yes   21\n",
      "d      James    0.0         3      no   24\n",
      "e      Emily    9.0         2      no   23\n",
      "f    Michael   20.0         3     yes   22\n",
      "g    Matthew   14.5         1     yes   25\n",
      "h      Laura    0.0         1      no   22\n",
      "i      Kevin    8.0         2      no   21\n",
      "j      Jonas   19.0         1     yes   26\n"
     ]
    }
   ],
   "source": [
    "if __name__==\"__main__\":\n",
    "    main()"
   ]
  }
 ],
 "metadata": {
  "kernelspec": {
   "display_name": "Python 3",
   "language": "python",
   "name": "python3"
  },
  "language_info": {
   "codemirror_mode": {
    "name": "ipython",
    "version": 3
   },
   "file_extension": ".py",
   "mimetype": "text/x-python",
   "name": "python",
   "nbconvert_exporter": "python",
   "pygments_lexer": "ipython3",
   "version": "3.9.13"
  }
 },
 "nbformat": 4,
 "nbformat_minor": 2
}
