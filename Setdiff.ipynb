{
 "cells": [
  {
   "cell_type": "code",
   "execution_count": 6,
   "metadata": {},
   "outputs": [
    {
     "data": {
      "text/plain": [
       "'\\n@Author: Sudhanshu Kumar\\n@Date: 11 - 10 - 2024\\n@Last Modified by: Sudhanshu Kumar\\n@Last Modified time: 11 - 10 - 2024\\n@Title: Python program to find the common element between two array\\n\\n'"
      ]
     },
     "execution_count": 6,
     "metadata": {},
     "output_type": "execute_result"
    }
   ],
   "source": [
    "'''\n",
    "@Author: Sudhanshu Kumar\n",
    "@Date: 11 - 10 - 2024\n",
    "@Last Modified by: Sudhanshu Kumar\n",
    "@Last Modified time: 11 - 10 - 2024\n",
    "@Title: Python program to find the common element between two array\n",
    "\n",
    "'''"
   ]
  },
  {
   "cell_type": "code",
   "execution_count": 7,
   "metadata": {},
   "outputs": [],
   "source": [
    "import numpy as np \n",
    "import logger\n",
    "\n",
    "log = logger.logger_init('CommonEle.ipynb')"
   ]
  },
  {
   "cell_type": "code",
   "execution_count": 8,
   "metadata": {},
   "outputs": [],
   "source": [
    "def setDifference(arr1,arr2):\n",
    "    \"\"\"\n",
    "    Description: \n",
    "        Function to find set difference between two sets\n",
    "    Parameters: \n",
    "        arr1\n",
    "        arr2\n",
    "    Returns:\n",
    "        It returns set difference\n",
    "    \"\"\"\n",
    "    np_arr1 = np.array(arr1)\n",
    "    np_arr2 = np.array(arr2)\n",
    "    diff = np.setdiff1d(arr1,arr2)\n",
    "    return diff"
   ]
  },
  {
   "cell_type": "code",
   "execution_count": 9,
   "metadata": {},
   "outputs": [],
   "source": [
    "def main():\n",
    "    arr1 = [1,2,3,4,5,6,7,8]\n",
    "    arr2 = [5,6,7,8,9,9,0]\n",
    "    log.info(f\"Set difference: {setDifference(arr1,arr2)}\")"
   ]
  },
  {
   "cell_type": "code",
   "execution_count": 10,
   "metadata": {},
   "outputs": [
    {
     "name": "stderr",
     "output_type": "stream",
     "text": [
      "2024-10-11 12:29:01,428:INFO:CommonEle.ipynb:Set difference: [1 2 3 4]\n",
      "2024-10-11 12:29:01,428:INFO:CommonEle.ipynb:Set difference: [1 2 3 4]\n"
     ]
    }
   ],
   "source": [
    "if __name__==\"__main__\":\n",
    "    main()"
   ]
  }
 ],
 "metadata": {
  "kernelspec": {
   "display_name": "Python 3",
   "language": "python",
   "name": "python3"
  },
  "language_info": {
   "codemirror_mode": {
    "name": "ipython",
    "version": 3
   },
   "file_extension": ".py",
   "mimetype": "text/x-python",
   "name": "python",
   "nbconvert_exporter": "python",
   "pygments_lexer": "ipython3",
   "version": "3.9.13"
  }
 },
 "nbformat": 4,
 "nbformat_minor": 2
}
