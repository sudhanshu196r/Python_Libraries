{
 "cells": [
  {
   "cell_type": "code",
   "execution_count": 1,
   "metadata": {},
   "outputs": [
    {
     "data": {
      "text/plain": [
       "'\\n@Author: Sudhanshu Kumar\\n@Date: 17 - 10 - 2024\\n@Last Modified by: Sudhanshu Kumar\\n@Last Modified time: 17 - 10 - 2024\\n@Title: Python program to iterate rows\\n\\n'"
      ]
     },
     "execution_count": 1,
     "metadata": {},
     "output_type": "execute_result"
    }
   ],
   "source": [
    "'''\n",
    "@Author: Sudhanshu Kumar\n",
    "@Date: 17 - 10 - 2024\n",
    "@Last Modified by: Sudhanshu Kumar\n",
    "@Last Modified time: 17 - 10 - 2024\n",
    "@Title: Python program to iterate rows\n",
    "\n",
    "'''"
   ]
  },
  {
   "cell_type": "code",
   "execution_count": 2,
   "metadata": {},
   "outputs": [],
   "source": [
    "import pandas as pd\n",
    "import logger\n",
    "\n",
    "log = logger.logger_init('IterateRows')"
   ]
  },
  {
   "cell_type": "code",
   "execution_count": 3,
   "metadata": {},
   "outputs": [],
   "source": [
    "def iterate(data,labels):\n",
    "    \"\"\"\n",
    "    Description:\n",
    "        Function to iterate rows     \n",
    "    Parameters:\n",
    "        data: A dictionary data that has to be converted to dataframe\n",
    "        labels: index for rows\n",
    "    Returns:\n",
    "        nothing\n",
    "    \"\"\"\n",
    "    df = pd.DataFrame(data,labels)\n",
    "    \n",
    "    for index, row in df.iterrows():\n",
    "        log.info(f\"Index: {index}\")\n",
    "        log.info(f\"Name: {row['name']}, Score: {row['score']}, Attempts: {row['attempts']}, Qualify: {row['qualify']}\")\n",
    "        log.info(\"-\" * 40)\n",
    "    "
   ]
  },
  {
   "cell_type": "code",
   "execution_count": 4,
   "metadata": {},
   "outputs": [],
   "source": [
    "def main():\n",
    "    data =  {'name': ['Anastasia', 'Dima', 'Katherine', 'James', 'Emily', 'Michael',\n",
    "    'Matthew', 'Laura', 'Kevin', 'Jonas'],\n",
    "    'score': [12.5, 9, 16.5, 0, 9, 20, 14.5, 0, 8, 19],\n",
    "    'attempts': [1, 3, 2, 3, 2, 3, 1, 1, 2, 1],\n",
    "    'qualify': ['yes', 'no', 'yes', 'no', 'no', 'yes', 'yes', 'no', 'no', 'yes']}\n",
    "    labels = ['a', 'b', 'c', 'd', 'e', 'f', 'g', 'h', 'i', 'j']\n",
    "\n",
    "\n",
    "    iterate(data,labels)"
   ]
  },
  {
   "cell_type": "code",
   "execution_count": 5,
   "metadata": {},
   "outputs": [
    {
     "name": "stderr",
     "output_type": "stream",
     "text": [
      "2024-10-17 17:34:02,098:INFO:IterateRows:Index: a\n",
      "2024-10-17 17:34:02,110:INFO:IterateRows:Name: Anastasia, Score: 12.5, Attempts: 1, Qualify: yes\n",
      "2024-10-17 17:34:02,112:INFO:IterateRows:----------------------------------------\n",
      "2024-10-17 17:34:02,115:INFO:IterateRows:Index: b\n",
      "2024-10-17 17:34:02,117:INFO:IterateRows:Name: Dima, Score: 9.0, Attempts: 3, Qualify: no\n",
      "2024-10-17 17:34:02,118:INFO:IterateRows:----------------------------------------\n",
      "2024-10-17 17:34:02,119:INFO:IterateRows:Index: c\n",
      "2024-10-17 17:34:02,119:INFO:IterateRows:Name: Katherine, Score: 16.5, Attempts: 2, Qualify: yes\n",
      "2024-10-17 17:34:02,119:INFO:IterateRows:----------------------------------------\n",
      "2024-10-17 17:34:02,119:INFO:IterateRows:Index: d\n",
      "2024-10-17 17:34:02,119:INFO:IterateRows:Name: James, Score: 0.0, Attempts: 3, Qualify: no\n",
      "2024-10-17 17:34:02,128:INFO:IterateRows:----------------------------------------\n",
      "2024-10-17 17:34:02,130:INFO:IterateRows:Index: e\n",
      "2024-10-17 17:34:02,131:INFO:IterateRows:Name: Emily, Score: 9.0, Attempts: 2, Qualify: no\n",
      "2024-10-17 17:34:02,133:INFO:IterateRows:----------------------------------------\n",
      "2024-10-17 17:34:02,134:INFO:IterateRows:Index: f\n",
      "2024-10-17 17:34:02,135:INFO:IterateRows:Name: Michael, Score: 20.0, Attempts: 3, Qualify: yes\n",
      "2024-10-17 17:34:02,135:INFO:IterateRows:----------------------------------------\n",
      "2024-10-17 17:34:02,137:INFO:IterateRows:Index: g\n",
      "2024-10-17 17:34:02,139:INFO:IterateRows:Name: Matthew, Score: 14.5, Attempts: 1, Qualify: yes\n",
      "2024-10-17 17:34:02,140:INFO:IterateRows:----------------------------------------\n",
      "2024-10-17 17:34:02,142:INFO:IterateRows:Index: h\n",
      "2024-10-17 17:34:02,144:INFO:IterateRows:Name: Laura, Score: 0.0, Attempts: 1, Qualify: no\n",
      "2024-10-17 17:34:02,146:INFO:IterateRows:----------------------------------------\n",
      "2024-10-17 17:34:02,147:INFO:IterateRows:Index: i\n",
      "2024-10-17 17:34:02,149:INFO:IterateRows:Name: Kevin, Score: 8.0, Attempts: 2, Qualify: no\n",
      "2024-10-17 17:34:02,150:INFO:IterateRows:----------------------------------------\n",
      "2024-10-17 17:34:02,151:INFO:IterateRows:Index: j\n",
      "2024-10-17 17:34:02,152:INFO:IterateRows:Name: Jonas, Score: 19.0, Attempts: 1, Qualify: yes\n",
      "2024-10-17 17:34:02,153:INFO:IterateRows:----------------------------------------\n"
     ]
    }
   ],
   "source": [
    "if __name__==\"__main__\":\n",
    "    main()"
   ]
  }
 ],
 "metadata": {
  "kernelspec": {
   "display_name": "Python 3",
   "language": "python",
   "name": "python3"
  },
  "language_info": {
   "codemirror_mode": {
    "name": "ipython",
    "version": 3
   },
   "file_extension": ".py",
   "mimetype": "text/x-python",
   "name": "python",
   "nbconvert_exporter": "python",
   "pygments_lexer": "ipython3",
   "version": "3.9.13"
  }
 },
 "nbformat": 4,
 "nbformat_minor": 2
}
