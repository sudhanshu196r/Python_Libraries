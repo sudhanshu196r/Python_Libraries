{
 "cells": [
  {
   "cell_type": "code",
   "execution_count": 1,
   "metadata": {},
   "outputs": [
    {
     "data": {
      "text/plain": [
       "'\\n@Author: Sudhanshu Kumar\\n@Date: 11 - 10 - 2024\\n@Last Modified by: Sudhanshu Kumar\\n@Last Modified time: 11 - 10 - 2024\\n@Title: Python program to find the common element between two array\\n\\n'"
      ]
     },
     "execution_count": 1,
     "metadata": {},
     "output_type": "execute_result"
    }
   ],
   "source": [
    "'''\n",
    "@Author: Sudhanshu Kumar\n",
    "@Date: 11 - 10 - 2024\n",
    "@Last Modified by: Sudhanshu Kumar\n",
    "@Last Modified time: 11 - 10 - 2024\n",
    "@Title: Python program to find the common element between two array\n",
    "\n",
    "'''"
   ]
  },
  {
   "cell_type": "code",
   "execution_count": 2,
   "metadata": {},
   "outputs": [],
   "source": [
    "import numpy as np \n",
    "import logger\n",
    "\n",
    "log = logger.logger_init('SizeLen.ipynb')"
   ]
  },
  {
   "cell_type": "code",
   "execution_count": 3,
   "metadata": {},
   "outputs": [],
   "source": [
    "def common(arr1,arr2):\n",
    "    \"\"\"\n",
    "    Description:\n",
    "        Function to find common element between two array\n",
    "    Parameters:\n",
    "        arr1: 1st array\n",
    "        arr2: 2nd array\n",
    "\n",
    "    Returns:\n",
    "        Common element list\n",
    "    \"\"\"\n",
    "\n",
    "    np_arr1 = np.array(arr1)\n",
    "    np_arr2 = np.array(arr2)\n",
    "    common_val = np.intersect1d(arr1,arr2)\n",
    "    return common_val"
   ]
  },
  {
   "cell_type": "code",
   "execution_count": 4,
   "metadata": {},
   "outputs": [],
   "source": [
    "def main():\n",
    "    arr1 = [1,2,3,4,5]\n",
    "    arr2 = [2,3,4,5,8,7]\n",
    "    log.info(f'Common Elements: {common(arr1,arr2)}')"
   ]
  },
  {
   "cell_type": "code",
   "execution_count": 5,
   "metadata": {},
   "outputs": [
    {
     "name": "stderr",
     "output_type": "stream",
     "text": [
      "2024-10-11 12:03:51,342:INFO:SizeLen.ipynb:Common Elements: [2 3 4 5]\n"
     ]
    }
   ],
   "source": [
    "if __name__==\"__main__\":\n",
    "    main()"
   ]
  }
 ],
 "metadata": {
  "kernelspec": {
   "display_name": "Python 3",
   "language": "python",
   "name": "python3"
  },
  "language_info": {
   "codemirror_mode": {
    "name": "ipython",
    "version": 3
   },
   "file_extension": ".py",
   "mimetype": "text/x-python",
   "name": "python",
   "nbconvert_exporter": "python",
   "pygments_lexer": "ipython3",
   "version": "3.9.13"
  }
 },
 "nbformat": 4,
 "nbformat_minor": 2
}
