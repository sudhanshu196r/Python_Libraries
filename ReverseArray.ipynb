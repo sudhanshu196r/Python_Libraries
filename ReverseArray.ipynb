{
 "cells": [
  {
   "cell_type": "markdown",
   "metadata": {},
   "source": [
    "'''\n",
    "@Author: Sudhanshu Kumar\n",
    "@Date: 10 - 10 - 2024\n",
    "@Last Modified by: Sudhanshu Kumar\n",
    "@Last Modified time: 10 - 10 - 2024\n",
    "@Title: Python program to reverse numpy array\n",
    "\n",
    "'''"
   ]
  },
  {
   "cell_type": "code",
   "execution_count": 1,
   "metadata": {},
   "outputs": [],
   "source": [
    "import numpy as np \n",
    "import logger\n",
    "\n",
    "log = logger.logger_init('ReverseArray')"
   ]
  },
  {
   "cell_type": "code",
   "execution_count": 2,
   "metadata": {},
   "outputs": [],
   "source": [
    "def reverseArray(array):\n",
    "    \"\"\"\n",
    "    Description: \n",
    "        This function will reverse the given array\n",
    "    Parameters:\n",
    "        array: a numpy array\n",
    "    Returns:\n",
    "        reversed array\n",
    "    \"\"\"\n",
    "\n",
    "    rev_array = array[::-1]\n",
    "    return rev_array"
   ]
  },
  {
   "cell_type": "code",
   "execution_count": 3,
   "metadata": {},
   "outputs": [],
   "source": [
    "def main():\n",
    "    array = np.array([1,2,3,4,5,6,7])\n",
    "    log.info(f'Original array : {array}')\n",
    "    log.info(f'Reversed Array: {reverseArray(array)}')"
   ]
  },
  {
   "cell_type": "code",
   "execution_count": 4,
   "metadata": {},
   "outputs": [
    {
     "name": "stderr",
     "output_type": "stream",
     "text": [
      "2024-10-10 14:12:43,370:INFO:ReverseArray:Original array : [1 2 3 4 5 6 7]\n",
      "2024-10-10 14:12:43,372:INFO:ReverseArray:Reversed Array: [7 6 5 4 3 2 1]\n"
     ]
    }
   ],
   "source": [
    "if __name__==\"__main__\":\n",
    "    main()"
   ]
  }
 ],
 "metadata": {
  "kernelspec": {
   "display_name": "Python 3",
   "language": "python",
   "name": "python3"
  },
  "language_info": {
   "codemirror_mode": {
    "name": "ipython",
    "version": 3
   },
   "file_extension": ".py",
   "mimetype": "text/x-python",
   "name": "python",
   "nbconvert_exporter": "python",
   "pygments_lexer": "ipython3",
   "version": "3.9.13"
  }
 },
 "nbformat": 4,
 "nbformat_minor": 2
}
