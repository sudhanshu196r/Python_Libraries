{
 "cells": [
  {
   "cell_type": "code",
   "execution_count": 42,
   "metadata": {},
   "outputs": [
    {
     "data": {
      "text/plain": [
       "'\\n@Author: Sudhanshu Kumar\\n@Date: 15 - 10 - 2024\\n@Last Modified by: Sudhanshu Kumar\\n@Last Modified time: 15 - 10 - 2024\\n@Title: Python program to implement dataframe\\n\\n'"
      ]
     },
     "execution_count": 42,
     "metadata": {},
     "output_type": "execute_result"
    }
   ],
   "source": [
    "'''\n",
    "@Author: Sudhanshu Kumar\n",
    "@Date: 15 - 10 - 2024\n",
    "@Last Modified by: Sudhanshu Kumar\n",
    "@Last Modified time: 15 - 10 - 2024\n",
    "@Title: Python program to implement dataframe\n",
    "\n",
    "'''"
   ]
  },
  {
   "cell_type": "code",
   "execution_count": 43,
   "metadata": {},
   "outputs": [],
   "source": [
    "import pandas as pd \n",
    "import logger\n",
    "\n",
    "log = logger.logger_init('PandaDataFrame.ipynb')"
   ]
  },
  {
   "cell_type": "code",
   "execution_count": 44,
   "metadata": {},
   "outputs": [],
   "source": [
    "def impDataframe(data,labels):\n",
    "    \"\"\"\n",
    "    Description:\n",
    "        function to implement dataframe in python\n",
    "    Parameters:\n",
    "        data: a dictionary data to be converted to dataframe\n",
    "        labels: row index\n",
    "    Returns: \n",
    "        a data frame\n",
    "    \"\"\"\n",
    "\n",
    "    ans_dataframe = pd.DataFrame(data,labels)\n",
    "    return ans_dataframe"
   ]
  },
  {
   "cell_type": "code",
   "execution_count": 45,
   "metadata": {},
   "outputs": [],
   "source": [
    "def main():\n",
    "    data =  {'name': ['Anastasia', 'Dima', 'Katherine', 'James', 'Emily', 'Michael',\n",
    "    'Matthew', 'Laura', 'Kevin', 'Jonas'],\n",
    "    'score': [12.5, 9, 16.5, 0, 9, 20, 14.5, 0, 8, 19],\n",
    "    'attempts': [1, 3, 2, 3, 2, 3, 1, 1, 2, 1],\n",
    "    'qualify': ['yes', 'no', 'yes', 'no', 'no', 'yes', 'yes', 'no', 'no', 'yes']}\n",
    "    labels = ['a', 'b', 'c', 'd', 'e', 'f', 'g', 'h', 'i', 'j']\n",
    "\n",
    "    print(impDataframe(data,labels))"
   ]
  },
  {
   "cell_type": "code",
   "execution_count": 46,
   "metadata": {},
   "outputs": [
    {
     "name": "stdout",
     "output_type": "stream",
     "text": [
      "        name  score  attempts qualify\n",
      "a  Anastasia   12.5         1     yes\n",
      "b       Dima    9.0         3      no\n",
      "c  Katherine   16.5         2     yes\n",
      "d      James    0.0         3      no\n",
      "e      Emily    9.0         2      no\n",
      "f    Michael   20.0         3     yes\n",
      "g    Matthew   14.5         1     yes\n",
      "h      Laura    0.0         1      no\n",
      "i      Kevin    8.0         2      no\n",
      "j      Jonas   19.0         1     yes\n"
     ]
    }
   ],
   "source": [
    "if __name__==\"__main__\":\n",
    "    main()"
   ]
  }
 ],
 "metadata": {
  "kernelspec": {
   "display_name": "Python 3",
   "language": "python",
   "name": "python3"
  },
  "language_info": {
   "codemirror_mode": {
    "name": "ipython",
    "version": 3
   },
   "file_extension": ".py",
   "mimetype": "text/x-python",
   "name": "python",
   "nbconvert_exporter": "python",
   "pygments_lexer": "ipython3",
   "version": "3.9.13"
  }
 },
 "nbformat": 4,
 "nbformat_minor": 2
}
