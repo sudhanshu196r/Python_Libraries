{
 "cells": [
  {
   "cell_type": "code",
   "execution_count": 21,
   "metadata": {},
   "outputs": [
    {
     "data": {
      "text/plain": [
       "'\\n@Author: Sudhanshu Kumar\\n@Date: 11 - 10 - 2024\\n@Last Modified by: Sudhanshu Kumar\\n@Last Modified time: 11 - 10 - 2024\\n@Title: Python program to compare array in numpy\\n\\n'"
      ]
     },
     "execution_count": 21,
     "metadata": {},
     "output_type": "execute_result"
    }
   ],
   "source": [
    "'''\n",
    "@Author: Sudhanshu Kumar\n",
    "@Date: 11 - 10 - 2024\n",
    "@Last Modified by: Sudhanshu Kumar\n",
    "@Last Modified time: 11 - 10 - 2024\n",
    "@Title: Python program to compare array in numpy\n",
    "\n",
    "'''"
   ]
  },
  {
   "cell_type": "code",
   "execution_count": 22,
   "metadata": {},
   "outputs": [],
   "source": [
    "import numpy as np \n",
    "import logger\n",
    "\n",
    "log = logger.logger_init('CompareArray.ipynb')"
   ]
  },
  {
   "cell_type": "code",
   "execution_count": 23,
   "metadata": {},
   "outputs": [],
   "source": [
    "def comp(arr1,arr2):\n",
    "    \"\"\"\n",
    "    Description: \n",
    "        Function to compare array in numpy\n",
    "    Parameters: \n",
    "        arr1\n",
    "        arr2\n",
    "    Returns:\n",
    "        It returns boolean values after comparision\n",
    "    \"\"\"\n",
    "    np_arr1 = np.array(arr1)\n",
    "    np_arr2 = np.array(arr2)\n",
    "    greater = np_arr1>np_arr2\n",
    "    greater_equal = np_arr1>=np_arr2\n",
    "\n",
    "    return greater,greater_equal\n"
   ]
  },
  {
   "cell_type": "code",
   "execution_count": 24,
   "metadata": {},
   "outputs": [],
   "source": [
    "def main():\n",
    "    arr1 = [1,2,3,4,5,6,7,8]\n",
    "    arr2 = [5,6,7,8,9,6,0,3]\n",
    "    log.info(f\": {comp(arr1,arr2)}\")"
   ]
  },
  {
   "cell_type": "code",
   "execution_count": 25,
   "metadata": {},
   "outputs": [
    {
     "name": "stderr",
     "output_type": "stream",
     "text": [
      "2024-10-11 13:18:42,775:INFO:CompareArray.ipynb:: (array([False, False, False, False, False, False,  True,  True]), array([False, False, False, False, False,  True,  True,  True]))\n",
      "2024-10-11 13:18:42,775:INFO:CompareArray.ipynb:: (array([False, False, False, False, False, False,  True,  True]), array([False, False, False, False, False,  True,  True,  True]))\n",
      "2024-10-11 13:18:42,775:INFO:CompareArray.ipynb:: (array([False, False, False, False, False, False,  True,  True]), array([False, False, False, False, False,  True,  True,  True]))\n",
      "2024-10-11 13:18:42,775:INFO:CompareArray.ipynb:: (array([False, False, False, False, False, False,  True,  True]), array([False, False, False, False, False,  True,  True,  True]))\n",
      "2024-10-11 13:18:42,775:INFO:CompareArray.ipynb:: (array([False, False, False, False, False, False,  True,  True]), array([False, False, False, False, False,  True,  True,  True]))\n"
     ]
    }
   ],
   "source": [
    "if __name__==\"__main__\":\n",
    "    main()"
   ]
  }
 ],
 "metadata": {
  "kernelspec": {
   "display_name": "Python 3",
   "language": "python",
   "name": "python3"
  },
  "language_info": {
   "codemirror_mode": {
    "name": "ipython",
    "version": 3
   },
   "file_extension": ".py",
   "mimetype": "text/x-python",
   "name": "python",
   "nbconvert_exporter": "python",
   "pygments_lexer": "ipython3",
   "version": "3.9.13"
  }
 },
 "nbformat": 4,
 "nbformat_minor": 2
}
